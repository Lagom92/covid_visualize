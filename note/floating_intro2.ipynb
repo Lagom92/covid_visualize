{
 "metadata": {
  "language_info": {
   "codemirror_mode": {
    "name": "ipython",
    "version": 3
   },
   "file_extension": ".py",
   "mimetype": "text/x-python",
   "name": "python",
   "nbconvert_exporter": "python",
   "pygments_lexer": "ipython3",
   "version": "3.7.7-final"
  },
  "orig_nbformat": 2,
  "kernelspec": {
   "name": "python_defaultSpec_1599229347304",
   "display_name": "Python 3.7.7 64-bit ('study': conda)"
  }
 },
 "nbformat": 4,
 "nbformat_minor": 2,
 "cells": [
  {
   "cell_type": "markdown",
   "metadata": {},
   "source": [
    "# 서울시 유동 인구\n",
    "\n",
    "선 그래프, 지도 그래프로 시각화\n",
    "\n",
    "2. 5월부터 7월 까지의 유동량을 분석\n",
    "\n",
    "    - 요일별 / 시간별 로 나눠서 시각화"
   ]
  },
  {
   "cell_type": "code",
   "execution_count": 213,
   "metadata": {},
   "outputs": [],
   "source": [
    "import pandas as pd\n",
    "import numpy as np \n",
    "import datetime\n",
    "import matplotlib.pyplot as plt \n",
    "\n",
    "from matplotlib import font_manager, rc\n",
    "font_name = font_manager.FontProperties(fname=\"c:/Windows/Fonts/malgun.ttf\").get_name()\n",
    "rc('font', family=font_name)"
   ]
  },
  {
   "cell_type": "code",
   "execution_count": 214,
   "metadata": {},
   "outputs": [
    {
     "output_type": "execute_result",
     "data": {
      "text/plain": "         일자  시간(1시간단위)  연령대(10세단위)  성별   시   군구  유동인구수\n0  20200501          1          20  남성  서울   중구  12000\n1  20200501          1          20  여성  서울  은평구  28680\n2  20200501          1          50  남성  서울  관악구  34470\n3  20200501          1          50  여성  서울  강북구  26500\n4  20200501          1          70  여성  서울  은평구  24120",
      "text/html": "<div>\n<style scoped>\n    .dataframe tbody tr th:only-of-type {\n        vertical-align: middle;\n    }\n\n    .dataframe tbody tr th {\n        vertical-align: top;\n    }\n\n    .dataframe thead th {\n        text-align: right;\n    }\n</style>\n<table border=\"1\" class=\"dataframe\">\n  <thead>\n    <tr style=\"text-align: right;\">\n      <th></th>\n      <th>일자</th>\n      <th>시간(1시간단위)</th>\n      <th>연령대(10세단위)</th>\n      <th>성별</th>\n      <th>시</th>\n      <th>군구</th>\n      <th>유동인구수</th>\n    </tr>\n  </thead>\n  <tbody>\n    <tr>\n      <th>0</th>\n      <td>20200501</td>\n      <td>1</td>\n      <td>20</td>\n      <td>남성</td>\n      <td>서울</td>\n      <td>중구</td>\n      <td>12000</td>\n    </tr>\n    <tr>\n      <th>1</th>\n      <td>20200501</td>\n      <td>1</td>\n      <td>20</td>\n      <td>여성</td>\n      <td>서울</td>\n      <td>은평구</td>\n      <td>28680</td>\n    </tr>\n    <tr>\n      <th>2</th>\n      <td>20200501</td>\n      <td>1</td>\n      <td>50</td>\n      <td>남성</td>\n      <td>서울</td>\n      <td>관악구</td>\n      <td>34470</td>\n    </tr>\n    <tr>\n      <th>3</th>\n      <td>20200501</td>\n      <td>1</td>\n      <td>50</td>\n      <td>여성</td>\n      <td>서울</td>\n      <td>강북구</td>\n      <td>26500</td>\n    </tr>\n    <tr>\n      <th>4</th>\n      <td>20200501</td>\n      <td>1</td>\n      <td>70</td>\n      <td>여성</td>\n      <td>서울</td>\n      <td>은평구</td>\n      <td>24120</td>\n    </tr>\n  </tbody>\n</table>\n</div>"
     },
     "metadata": {},
     "execution_count": 214
    }
   ],
   "source": [
    "df5 = pd.read_csv('../input/Floating_Population_2005.csv')\n",
    "df6 = pd.read_csv('../input/Floating_Population_2006.csv')\n",
    "df7 = pd.read_csv('../input/Floating_Population_2007.csv')\n",
    "\n",
    "df_all = pd.concat([df5, df6, df7])\n",
    "# df_all = pd.concat([df7])\n",
    "df_all.head()"
   ]
  },
  {
   "cell_type": "code",
   "execution_count": 215,
   "metadata": {},
   "outputs": [
    {
     "output_type": "execute_result",
     "data": {
      "text/plain": "    군구  유동인구수         날짜  월\n0   중구  12000 2020-05-01  5\n1  은평구  28680 2020-05-01  5\n2  관악구  34470 2020-05-01  5\n3  강북구  26500 2020-05-01  5\n4  은평구  24120 2020-05-01  5",
      "text/html": "<div>\n<style scoped>\n    .dataframe tbody tr th:only-of-type {\n        vertical-align: middle;\n    }\n\n    .dataframe tbody tr th {\n        vertical-align: top;\n    }\n\n    .dataframe thead th {\n        text-align: right;\n    }\n</style>\n<table border=\"1\" class=\"dataframe\">\n  <thead>\n    <tr style=\"text-align: right;\">\n      <th></th>\n      <th>군구</th>\n      <th>유동인구수</th>\n      <th>날짜</th>\n      <th>월</th>\n    </tr>\n  </thead>\n  <tbody>\n    <tr>\n      <th>0</th>\n      <td>중구</td>\n      <td>12000</td>\n      <td>2020-05-01</td>\n      <td>5</td>\n    </tr>\n    <tr>\n      <th>1</th>\n      <td>은평구</td>\n      <td>28680</td>\n      <td>2020-05-01</td>\n      <td>5</td>\n    </tr>\n    <tr>\n      <th>2</th>\n      <td>관악구</td>\n      <td>34470</td>\n      <td>2020-05-01</td>\n      <td>5</td>\n    </tr>\n    <tr>\n      <th>3</th>\n      <td>강북구</td>\n      <td>26500</td>\n      <td>2020-05-01</td>\n      <td>5</td>\n    </tr>\n    <tr>\n      <th>4</th>\n      <td>은평구</td>\n      <td>24120</td>\n      <td>2020-05-01</td>\n      <td>5</td>\n    </tr>\n  </tbody>\n</table>\n</div>"
     },
     "metadata": {},
     "execution_count": 215
    }
   ],
   "source": [
    "df = df_all[['일자', '군구', '유동인구수']]\n",
    "\n",
    "df['날짜'] = df['일자'].apply(lambda x : str(x)[:4] + \"-\" + str(x)[4:6] + \"-\" + str(x)[6:8])\n",
    "df['월'] = df['일자'].apply(lambda x : str(x)[5])\n",
    "df.drop(['일자'], axis=1, inplace=True)\n",
    "\n",
    "df['날짜'] = pd.to_datetime(df['날짜'])\n",
    "\n",
    "df.head()"
   ]
  },
  {
   "cell_type": "code",
   "execution_count": 216,
   "metadata": {},
   "outputs": [
    {
     "output_type": "execute_result",
     "data": {
      "text/plain": "               날짜  유동인구수      요일  week\n0      2020-05-01  12000  Friday     4\n1      2020-05-01  28680  Friday     4\n2      2020-05-01  34470  Friday     4\n3      2020-05-01  26500  Friday     4\n4      2020-05-01  24120  Friday     4\n...           ...    ...     ...   ...\n223195 2020-07-31  29360  Friday     4\n223196 2020-07-31  32900  Friday     4\n223197 2020-07-31  34010  Friday     4\n223198 2020-07-31  21960  Friday     4\n223199 2020-07-31  17770  Friday     4\n\n[660000 rows x 4 columns]",
      "text/html": "<div>\n<style scoped>\n    .dataframe tbody tr th:only-of-type {\n        vertical-align: middle;\n    }\n\n    .dataframe tbody tr th {\n        vertical-align: top;\n    }\n\n    .dataframe thead th {\n        text-align: right;\n    }\n</style>\n<table border=\"1\" class=\"dataframe\">\n  <thead>\n    <tr style=\"text-align: right;\">\n      <th></th>\n      <th>날짜</th>\n      <th>유동인구수</th>\n      <th>요일</th>\n      <th>week</th>\n    </tr>\n  </thead>\n  <tbody>\n    <tr>\n      <th>0</th>\n      <td>2020-05-01</td>\n      <td>12000</td>\n      <td>Friday</td>\n      <td>4</td>\n    </tr>\n    <tr>\n      <th>1</th>\n      <td>2020-05-01</td>\n      <td>28680</td>\n      <td>Friday</td>\n      <td>4</td>\n    </tr>\n    <tr>\n      <th>2</th>\n      <td>2020-05-01</td>\n      <td>34470</td>\n      <td>Friday</td>\n      <td>4</td>\n    </tr>\n    <tr>\n      <th>3</th>\n      <td>2020-05-01</td>\n      <td>26500</td>\n      <td>Friday</td>\n      <td>4</td>\n    </tr>\n    <tr>\n      <th>4</th>\n      <td>2020-05-01</td>\n      <td>24120</td>\n      <td>Friday</td>\n      <td>4</td>\n    </tr>\n    <tr>\n      <th>...</th>\n      <td>...</td>\n      <td>...</td>\n      <td>...</td>\n      <td>...</td>\n    </tr>\n    <tr>\n      <th>223195</th>\n      <td>2020-07-31</td>\n      <td>29360</td>\n      <td>Friday</td>\n      <td>4</td>\n    </tr>\n    <tr>\n      <th>223196</th>\n      <td>2020-07-31</td>\n      <td>32900</td>\n      <td>Friday</td>\n      <td>4</td>\n    </tr>\n    <tr>\n      <th>223197</th>\n      <td>2020-07-31</td>\n      <td>34010</td>\n      <td>Friday</td>\n      <td>4</td>\n    </tr>\n    <tr>\n      <th>223198</th>\n      <td>2020-07-31</td>\n      <td>21960</td>\n      <td>Friday</td>\n      <td>4</td>\n    </tr>\n    <tr>\n      <th>223199</th>\n      <td>2020-07-31</td>\n      <td>17770</td>\n      <td>Friday</td>\n      <td>4</td>\n    </tr>\n  </tbody>\n</table>\n<p>660000 rows × 4 columns</p>\n</div>"
     },
     "metadata": {},
     "execution_count": 216
    }
   ],
   "source": [
    "df = df[['날짜', '유동인구수']]\n",
    "df['요일'] = df['날짜'].dt.day_name()\n",
    "df['week'] = df['날짜'].dt.dayofweek\n",
    "df"
   ]
  },
  {
   "cell_type": "code",
   "execution_count": 217,
   "metadata": {},
   "outputs": [
    {
     "output_type": "execute_result",
     "data": {
      "text/plain": "               날짜  유동인구수      요일  week\n109724 2020-06-08  19390  Monday     0\n85364  2020-05-18  29960  Monday     0\n85363  2020-05-18  31760  Monday     0\n85362  2020-05-18  25010  Monday     0\n85361  2020-05-18  29700  Monday     0\n...           ...    ...     ...   ...\n196884 2020-05-03  42910  Sunday     6\n196885 2020-05-03  38720  Sunday     6\n196886 2020-05-03  39890  Sunday     6\n196872 2020-05-03  22010  Sunday     6\n190991 2020-05-03  19680  Sunday     6\n\n[660000 rows x 4 columns]",
      "text/html": "<div>\n<style scoped>\n    .dataframe tbody tr th:only-of-type {\n        vertical-align: middle;\n    }\n\n    .dataframe tbody tr th {\n        vertical-align: top;\n    }\n\n    .dataframe thead th {\n        text-align: right;\n    }\n</style>\n<table border=\"1\" class=\"dataframe\">\n  <thead>\n    <tr style=\"text-align: right;\">\n      <th></th>\n      <th>날짜</th>\n      <th>유동인구수</th>\n      <th>요일</th>\n      <th>week</th>\n    </tr>\n  </thead>\n  <tbody>\n    <tr>\n      <th>109724</th>\n      <td>2020-06-08</td>\n      <td>19390</td>\n      <td>Monday</td>\n      <td>0</td>\n    </tr>\n    <tr>\n      <th>85364</th>\n      <td>2020-05-18</td>\n      <td>29960</td>\n      <td>Monday</td>\n      <td>0</td>\n    </tr>\n    <tr>\n      <th>85363</th>\n      <td>2020-05-18</td>\n      <td>31760</td>\n      <td>Monday</td>\n      <td>0</td>\n    </tr>\n    <tr>\n      <th>85362</th>\n      <td>2020-05-18</td>\n      <td>25010</td>\n      <td>Monday</td>\n      <td>0</td>\n    </tr>\n    <tr>\n      <th>85361</th>\n      <td>2020-05-18</td>\n      <td>29700</td>\n      <td>Monday</td>\n      <td>0</td>\n    </tr>\n    <tr>\n      <th>...</th>\n      <td>...</td>\n      <td>...</td>\n      <td>...</td>\n      <td>...</td>\n    </tr>\n    <tr>\n      <th>196884</th>\n      <td>2020-05-03</td>\n      <td>42910</td>\n      <td>Sunday</td>\n      <td>6</td>\n    </tr>\n    <tr>\n      <th>196885</th>\n      <td>2020-05-03</td>\n      <td>38720</td>\n      <td>Sunday</td>\n      <td>6</td>\n    </tr>\n    <tr>\n      <th>196886</th>\n      <td>2020-05-03</td>\n      <td>39890</td>\n      <td>Sunday</td>\n      <td>6</td>\n    </tr>\n    <tr>\n      <th>196872</th>\n      <td>2020-05-03</td>\n      <td>22010</td>\n      <td>Sunday</td>\n      <td>6</td>\n    </tr>\n    <tr>\n      <th>190991</th>\n      <td>2020-05-03</td>\n      <td>19680</td>\n      <td>Sunday</td>\n      <td>6</td>\n    </tr>\n  </tbody>\n</table>\n<p>660000 rows × 4 columns</p>\n</div>"
     },
     "metadata": {},
     "execution_count": 217
    }
   ],
   "source": [
    "df = df.sort_values(by=['week'])\n",
    "df"
   ]
  },
  {
   "cell_type": "code",
   "execution_count": 218,
   "metadata": {},
   "outputs": [
    {
     "output_type": "execute_result",
     "data": {
      "text/plain": "           유동인구수\nweek            \n0     2588085550\n1     2587904300\n2     2596443390\n3     2584202990\n4     2710005690\n5     2463230650\n6     2447819540",
      "text/html": "<div>\n<style scoped>\n    .dataframe tbody tr th:only-of-type {\n        vertical-align: middle;\n    }\n\n    .dataframe tbody tr th {\n        vertical-align: top;\n    }\n\n    .dataframe thead th {\n        text-align: right;\n    }\n</style>\n<table border=\"1\" class=\"dataframe\">\n  <thead>\n    <tr style=\"text-align: right;\">\n      <th></th>\n      <th>유동인구수</th>\n    </tr>\n    <tr>\n      <th>week</th>\n      <th></th>\n    </tr>\n  </thead>\n  <tbody>\n    <tr>\n      <th>0</th>\n      <td>2588085550</td>\n    </tr>\n    <tr>\n      <th>1</th>\n      <td>2587904300</td>\n    </tr>\n    <tr>\n      <th>2</th>\n      <td>2596443390</td>\n    </tr>\n    <tr>\n      <th>3</th>\n      <td>2584202990</td>\n    </tr>\n    <tr>\n      <th>4</th>\n      <td>2710005690</td>\n    </tr>\n    <tr>\n      <th>5</th>\n      <td>2463230650</td>\n    </tr>\n    <tr>\n      <th>6</th>\n      <td>2447819540</td>\n    </tr>\n  </tbody>\n</table>\n</div>"
     },
     "metadata": {},
     "execution_count": 218
    }
   ],
   "source": [
    "pd.pivot_table(df, index=['week'], values=['유동인구수'], aggfunc=np.sum)"
   ]
  },
  {
   "cell_type": "code",
   "execution_count": 219,
   "metadata": {},
   "outputs": [
    {
     "output_type": "execute_result",
     "data": {
      "text/plain": "week\n0    2588\n1    2587\n2    2596\n3    2584\n4    2710\n5    2463\n6    2447\nName: 유동인구수, dtype: int64"
     },
     "metadata": {},
     "execution_count": 219
    }
   ],
   "source": [
    "week = df.groupby(['week'])['유동인구수'].sum()\n",
    "week = week // 1000000\n",
    "week"
   ]
  },
  {
   "cell_type": "code",
   "execution_count": null,
   "metadata": {},
   "outputs": [],
   "source": []
  },
  {
   "cell_type": "code",
   "execution_count": 220,
   "metadata": {},
   "outputs": [],
   "source": [
    "week_lst = df['요일'].unique().tolist()\n",
    "# week_lst\n",
    "week.index = week_lst"
   ]
  },
  {
   "cell_type": "code",
   "execution_count": 221,
   "metadata": {},
   "outputs": [
    {
     "output_type": "execute_result",
     "data": {
      "text/plain": "<BarContainer object of 7 artists>"
     },
     "metadata": {},
     "execution_count": 221
    },
    {
     "output_type": "display_data",
     "data": {
      "text/plain": "<Figure size 432x288 with 1 Axes>",
      "image/svg+xml": "<?xml version=\"1.0\" encoding=\"utf-8\" standalone=\"no\"?>\r\n<!DOCTYPE svg PUBLIC \"-//W3C//DTD SVG 1.1//EN\"\r\n  \"http://www.w3.org/Graphics/SVG/1.1/DTD/svg11.dtd\">\r\n<!-- Created with matplotlib (https://matplotlib.org/) -->\r\n<svg height=\"248.849375pt\" version=\"1.1\" viewBox=\"0 0 378.23125 248.849375\" width=\"378.23125pt\" xmlns=\"http://www.w3.org/2000/svg\" xmlns:xlink=\"http://www.w3.org/1999/xlink\">\r\n <defs>\r\n  <style type=\"text/css\">\r\n*{stroke-linecap:butt;stroke-linejoin:round;}\r\n  </style>\r\n </defs>\r\n <g id=\"figure_1\">\r\n  <g id=\"patch_1\">\r\n   <path d=\"M 0 248.849375 \r\nL 378.23125 248.849375 \r\nL 378.23125 0 \r\nL 0 0 \r\nz\r\n\" style=\"fill:none;\"/>\r\n  </g>\r\n  <g id=\"axes_1\">\r\n   <g id=\"patch_2\">\r\n    <path d=\"M 36.23125 224.64 \r\nL 371.03125 224.64 \r\nL 371.03125 7.2 \r\nL 36.23125 7.2 \r\nz\r\n\" style=\"fill:#ffffff;\"/>\r\n   </g>\r\n   <g id=\"patch_3\">\r\n    <path clip-path=\"url(#p8ab819dcf9)\" d=\"M 51.449432 224.64 \r\nL 87.256918 224.64 \r\nL 87.256918 26.876964 \r\nL 51.449432 26.876964 \r\nz\r\n\" style=\"fill:#1f77b4;\"/>\r\n   </g>\r\n   <g id=\"patch_4\">\r\n    <path clip-path=\"url(#p8ab819dcf9)\" d=\"M 96.20879 224.64 \r\nL 132.016277 224.64 \r\nL 132.016277 26.953379 \r\nL 96.20879 26.953379 \r\nz\r\n\" style=\"fill:#1f77b4;\"/>\r\n   </g>\r\n   <g id=\"patch_5\">\r\n    <path clip-path=\"url(#p8ab819dcf9)\" d=\"M 140.968148 224.64 \r\nL 176.775635 224.64 \r\nL 176.775635 26.26564 \r\nL 140.968148 26.26564 \r\nz\r\n\" style=\"fill:#1f77b4;\"/>\r\n   </g>\r\n   <g id=\"patch_6\">\r\n    <path clip-path=\"url(#p8ab819dcf9)\" d=\"M 185.727507 224.64 \r\nL 221.534993 224.64 \r\nL 221.534993 27.182625 \r\nL 185.727507 27.182625 \r\nz\r\n\" style=\"fill:#1f77b4;\"/>\r\n   </g>\r\n   <g id=\"patch_7\">\r\n    <path clip-path=\"url(#p8ab819dcf9)\" d=\"M 230.486865 224.64 \r\nL 266.294352 224.64 \r\nL 266.294352 17.554286 \r\nL 230.486865 17.554286 \r\nz\r\n\" style=\"fill:#1f77b4;\"/>\r\n   </g>\r\n   <g id=\"patch_8\">\r\n    <path clip-path=\"url(#p8ab819dcf9)\" d=\"M 275.246223 224.64 \r\nL 311.05371 224.64 \r\nL 311.05371 36.428888 \r\nL 275.246223 36.428888 \r\nz\r\n\" style=\"fill:#1f77b4;\"/>\r\n   </g>\r\n   <g id=\"patch_9\">\r\n    <path clip-path=\"url(#p8ab819dcf9)\" d=\"M 320.005582 224.64 \r\nL 355.813068 224.64 \r\nL 355.813068 37.651534 \r\nL 320.005582 37.651534 \r\nz\r\n\" style=\"fill:#1f77b4;\"/>\r\n   </g>\r\n   <g id=\"matplotlib.axis_1\">\r\n    <g id=\"xtick_1\">\r\n     <g id=\"line2d_1\">\r\n      <defs>\r\n       <path d=\"M 0 0 \r\nL 0 3.5 \r\n\" id=\"m5803fe1baf\" style=\"stroke:#000000;stroke-width:0.8;\"/>\r\n      </defs>\r\n      <g>\r\n       <use style=\"stroke:#000000;stroke-width:0.8;\" x=\"69.353175\" xlink:href=\"#m5803fe1baf\" y=\"224.64\"/>\r\n      </g>\r\n     </g>\r\n     <g id=\"text_1\">\r\n      <!-- Monday -->\r\n      <defs>\r\n       <path d=\"M 74.3125 0 \r\nL 74.3125 48.53125 \r\nQ 74.3125 54.15625 75.046875 62.40625 \r\nL 74.8125 62.40625 \r\nQ 73.640625 57.5625 72.703125 55.609375 \r\nL 47.65625 0 \r\nL 44.09375 0 \r\nL 19.09375 55.21875 \r\nQ 18.109375 57.328125 17.046875 62.40625 \r\nL 16.796875 62.40625 \r\nQ 17.1875 59.71875 17.1875 48.6875 \r\nL 17.1875 0 \r\nL 9.515625 0 \r\nL 9.515625 71.875 \r\nL 19.828125 71.875 \r\nL 42.28125 21.234375 \r\nQ 45.015625 15.09375 45.65625 12.75 \r\nL 45.953125 12.75 \r\nQ 46.6875 14.75 49.46875 21.484375 \r\nL 72.46875 71.875 \r\nL 82.171875 71.875 \r\nL 82.171875 0 \r\nz\r\n\" id=\"MalgunGothic-77\"/>\r\n       <path d=\"M 4.9375 25 \r\nQ 4.9375 37.796875 11.890625 45.140625 \r\nQ 18.84375 52.484375 30.90625 52.484375 \r\nQ 42.140625 52.484375 48.609375 45.421875 \r\nQ 55.078125 38.375 55.078125 25.78125 \r\nQ 55.078125 13.578125 48.09375 6.171875 \r\nQ 41.109375 -1.21875 29.6875 -1.21875 \r\nQ 18.5 -1.21875 11.71875 6 \r\nQ 4.9375 13.234375 4.9375 25 \r\nz\r\nM 12.796875 25.34375 \r\nQ 12.796875 16.265625 17.546875 10.8125 \r\nQ 22.3125 5.375 30.21875 5.375 \r\nQ 38.421875 5.375 42.796875 10.625 \r\nQ 47.171875 15.875 47.171875 25.53125 \r\nQ 47.171875 35.25 42.765625 40.59375 \r\nQ 38.375 45.953125 30.21875 45.953125 \r\nQ 22.265625 45.953125 17.53125 40.421875 \r\nQ 12.796875 34.90625 12.796875 25.34375 \r\nz\r\n\" id=\"MalgunGothic-111\"/>\r\n       <path d=\"M 50.59375 0 \r\nL 42.828125 0 \r\nL 42.828125 29.296875 \r\nQ 42.828125 45.953125 30.671875 45.953125 \r\nQ 24.421875 45.953125 20.28125 41.234375 \r\nQ 16.15625 36.53125 16.15625 29.25 \r\nL 16.15625 0 \r\nL 8.40625 0 \r\nL 8.40625 51.3125 \r\nL 16.15625 51.3125 \r\nL 16.15625 42.71875 \r\nL 16.359375 42.71875 \r\nQ 22.125 52.484375 33.203125 52.484375 \r\nQ 41.65625 52.484375 46.125 47.0625 \r\nQ 50.59375 41.65625 50.59375 31.34375 \r\nz\r\n\" id=\"MalgunGothic-110\"/>\r\n       <path d=\"M 51.765625 0 \r\nL 44.09375 0 \r\nL 44.09375 8.84375 \r\nL 43.890625 8.84375 \r\nQ 38.1875 -1.21875 26.171875 -1.21875 \r\nQ 16.5 -1.21875 10.71875 5.6875 \r\nQ 4.9375 12.59375 4.9375 24.46875 \r\nQ 4.9375 37.109375 11.375 44.796875 \r\nQ 17.828125 52.484375 28.375 52.484375 \r\nQ 38.96875 52.484375 43.890625 44.09375 \r\nL 44.09375 44.09375 \r\nL 44.09375 75.921875 \r\nL 51.765625 75.921875 \r\nz\r\nM 44.09375 30.90625 \r\nQ 44.09375 37.15625 39.84375 41.546875 \r\nQ 35.59375 45.953125 29.25 45.953125 \r\nQ 21.625 45.953125 17.203125 40.265625 \r\nQ 12.796875 34.578125 12.796875 24.859375 \r\nQ 12.796875 16.015625 16.96875 10.6875 \r\nQ 21.140625 5.375 28.328125 5.375 \r\nQ 35.15625 5.375 39.625 10.40625 \r\nQ 44.09375 15.4375 44.09375 23.09375 \r\nz\r\n\" id=\"MalgunGothic-100\"/>\r\n       <path d=\"M 9.625 47.65625 \r\nQ 17.140625 52.484375 26.90625 52.484375 \r\nQ 44.78125 52.484375 44.78125 33.546875 \r\nL 44.78125 0 \r\nL 37.015625 0 \r\nL 37.015625 8.0625 \r\nL 36.71875 8.0625 \r\nQ 31.390625 -1.21875 20.953125 -1.21875 \r\nQ 13.421875 -1.21875 9 2.8125 \r\nQ 4.59375 6.84375 4.59375 13.578125 \r\nQ 4.59375 27.875 21.484375 30.21875 \r\nL 36.96875 32.46875 \r\nQ 36.96875 45.84375 26.3125 45.84375 \r\nQ 16.9375 45.84375 9.625 39.453125 \r\nz\r\nM 24.421875 24.359375 \r\nQ 18.40625 23.578125 15.515625 21.421875 \r\nQ 12.640625 19.28125 12.640625 14.109375 \r\nQ 12.640625 10.203125 15.40625 7.8125 \r\nQ 18.171875 5.421875 22.65625 5.421875 \r\nQ 28.859375 5.421875 32.90625 9.8125 \r\nQ 36.96875 14.203125 36.96875 20.84375 \r\nL 36.96875 26.03125 \r\nz\r\n\" id=\"MalgunGothic-97\"/>\r\n       <path d=\"M 48.734375 51.3125 \r\nL 24.953125 -8.5 \r\nQ 18.703125 -24.171875 7.515625 -24.171875 \r\nQ 4.890625 -24.171875 2.4375 -23.578125 \r\nL 2.4375 -16.5 \r\nQ 4.9375 -17.328125 7.171875 -17.328125 \r\nQ 13.421875 -17.328125 16.546875 -9.8125 \r\nL 20.75 0.09375 \r\nL 0.734375 51.3125 \r\nL 9.328125 51.3125 \r\nL 23.484375 11.28125 \r\nQ 23.640625 10.890625 24.5625 7.625 \r\nL 24.8125 7.625 \r\nL 25.78125 11.1875 \r\nL 40.671875 51.3125 \r\nz\r\n\" id=\"MalgunGothic-121\"/>\r\n      </defs>\r\n      <g transform=\"translate(50.808644 239.232188)scale(0.1 -0.1)\">\r\n       <use xlink:href=\"#MalgunGothic-77\"/>\r\n       <use x=\"91.699219\" xlink:href=\"#MalgunGothic-111\"/>\r\n       <use x=\"151.611328\" xlink:href=\"#MalgunGothic-110\"/>\r\n       <use x=\"209.423828\" xlink:href=\"#MalgunGothic-100\"/>\r\n       <use x=\"269.628906\" xlink:href=\"#MalgunGothic-97\"/>\r\n       <use x=\"321.630859\" xlink:href=\"#MalgunGothic-121\"/>\r\n      </g>\r\n     </g>\r\n    </g>\r\n    <g id=\"xtick_2\">\r\n     <g id=\"line2d_2\">\r\n      <g>\r\n       <use style=\"stroke:#000000;stroke-width:0.8;\" x=\"114.112533\" xlink:href=\"#m5803fe1baf\" y=\"224.64\"/>\r\n      </g>\r\n     </g>\r\n     <g id=\"text_2\">\r\n      <!-- Tuesday -->\r\n      <defs>\r\n       <path d=\"M 51.46875 64.59375 \r\nL 30.71875 64.59375 \r\nL 30.71875 0 \r\nL 22.75 0 \r\nL 22.75 64.59375 \r\nL 2.09375 64.59375 \r\nL 2.09375 71.875 \r\nL 51.46875 71.875 \r\nz\r\n\" id=\"MalgunGothic-84\"/>\r\n       <path d=\"M 49.46875 0 \r\nL 41.703125 0 \r\nL 41.703125 8.109375 \r\nL 41.5 8.109375 \r\nQ 36.421875 -1.21875 25.6875 -1.21875 \r\nQ 7.328125 -1.21875 7.328125 20.65625 \r\nL 7.328125 51.3125 \r\nL 14.984375 51.3125 \r\nL 14.984375 21.921875 \r\nQ 14.984375 5.375 27.59375 5.375 \r\nQ 33.734375 5.375 37.71875 9.9375 \r\nQ 41.703125 14.5 41.703125 21.78125 \r\nL 41.703125 51.3125 \r\nL 49.46875 51.3125 \r\nz\r\n\" id=\"MalgunGothic-117\"/>\r\n       <path d=\"M 49.3125 23.734375 \r\nL 12.9375 23.734375 \r\nQ 13.1875 14.84375 17.703125 10.125 \r\nQ 22.21875 5.421875 29.828125 5.421875 \r\nQ 38.625 5.421875 45.84375 11.234375 \r\nL 45.84375 3.8125 \r\nQ 38.96875 -1.21875 28.03125 -1.21875 \r\nQ 17.1875 -1.21875 11.0625 5.875 \r\nQ 4.9375 12.984375 4.9375 25.53125 \r\nQ 4.9375 37.203125 11.671875 44.84375 \r\nQ 18.40625 52.484375 28.375 52.484375 \r\nQ 38.328125 52.484375 43.8125 45.96875 \r\nQ 49.3125 39.453125 49.3125 27.9375 \r\nz\r\nM 41.3125 30.5625 \r\nQ 41.3125 37.75 37.859375 41.796875 \r\nQ 34.421875 45.84375 28.265625 45.84375 \r\nQ 22.46875 45.84375 18.265625 41.671875 \r\nQ 14.0625 37.5 13.03125 30.5625 \r\nz\r\n\" id=\"MalgunGothic-101\"/>\r\n       <path d=\"M 5.171875 10.453125 \r\nQ 11.921875 5.46875 19.96875 5.46875 \r\nQ 30.90625 5.46875 30.90625 12.84375 \r\nQ 30.90625 16.015625 28.515625 18.09375 \r\nQ 26.125 20.171875 19.09375 22.796875 \r\nQ 10.984375 26.03125 8.125 29.34375 \r\nQ 5.28125 32.671875 5.28125 37.75 \r\nQ 5.28125 44.28125 10.9375 48.375 \r\nQ 16.609375 52.484375 24.75 52.484375 \r\nQ 31.296875 52.484375 36.578125 50.203125 \r\nL 36.578125 42.140625 \r\nQ 30.859375 45.84375 23.53125 45.84375 \r\nQ 18.75 45.84375 16.015625 43.71875 \r\nQ 13.28125 41.609375 13.28125 38.421875 \r\nQ 13.28125 35.015625 15.296875 33.203125 \r\nQ 17.328125 31.390625 24.125 28.71875 \r\nQ 33.296875 25.140625 36.078125 21.71875 \r\nQ 38.875 18.3125 38.875 13.578125 \r\nQ 38.875 6.734375 33.234375 2.75 \r\nQ 27.59375 -1.21875 18.796875 -1.21875 \r\nQ 10.84375 -1.21875 5.171875 1.90625 \r\nz\r\n\" id=\"MalgunGothic-115\"/>\r\n      </defs>\r\n      <g transform=\"translate(96.107065 239.232188)scale(0.1 -0.1)\">\r\n       <use xlink:href=\"#MalgunGothic-84\"/>\r\n       <use x=\"43.994141\" xlink:href=\"#MalgunGothic-117\"/>\r\n       <use x=\"101.806641\" xlink:href=\"#MalgunGothic-101\"/>\r\n       <use x=\"155.322266\" xlink:href=\"#MalgunGothic-115\"/>\r\n       <use x=\"198.632812\" xlink:href=\"#MalgunGothic-100\"/>\r\n       <use x=\"258.837891\" xlink:href=\"#MalgunGothic-97\"/>\r\n       <use x=\"310.839844\" xlink:href=\"#MalgunGothic-121\"/>\r\n      </g>\r\n     </g>\r\n    </g>\r\n    <g id=\"xtick_3\">\r\n     <g id=\"line2d_3\">\r\n      <g>\r\n       <use style=\"stroke:#000000;stroke-width:0.8;\" x=\"158.871892\" xlink:href=\"#m5803fe1baf\" y=\"224.64\"/>\r\n      </g>\r\n     </g>\r\n     <g id=\"text_3\">\r\n      <!-- Wednesday -->\r\n      <defs>\r\n       <path d=\"M 94.09375 71.875 \r\nL 73.734375 0 \r\nL 64.40625 0 \r\nL 49.421875 52.9375 \r\nQ 48.4375 56.390625 48.25 60.203125 \r\nL 48.046875 60.203125 \r\nQ 47.703125 56.109375 46.78125 53.03125 \r\nL 31.6875 0 \r\nL 22.5625 0 \r\nL 1.375 71.875 \r\nL 10.0625 71.875 \r\nL 25.640625 16.265625 \r\nQ 26.609375 12.75 26.859375 9.078125 \r\nL 27.15625 9.078125 \r\nQ 27.390625 11.96875 28.65625 16.265625 \r\nL 44.734375 71.875 \r\nL 52.203125 71.875 \r\nL 67.671875 15.875 \r\nQ 68.359375 13.421875 68.890625 9.1875 \r\nL 69.09375 9.1875 \r\nQ 69.234375 11.859375 70.453125 16.0625 \r\nL 85.40625 71.875 \r\nz\r\n\" id=\"MalgunGothic-87\"/>\r\n      </defs>\r\n      <g transform=\"translate(132.743767 239.232188)scale(0.1 -0.1)\">\r\n       <use xlink:href=\"#MalgunGothic-87\"/>\r\n       <use x=\"92.736328\" xlink:href=\"#MalgunGothic-101\"/>\r\n       <use x=\"146.251953\" xlink:href=\"#MalgunGothic-100\"/>\r\n       <use x=\"206.457031\" xlink:href=\"#MalgunGothic-110\"/>\r\n       <use x=\"264.269531\" xlink:href=\"#MalgunGothic-101\"/>\r\n       <use x=\"317.785156\" xlink:href=\"#MalgunGothic-115\"/>\r\n       <use x=\"361.095703\" xlink:href=\"#MalgunGothic-100\"/>\r\n       <use x=\"421.300781\" xlink:href=\"#MalgunGothic-97\"/>\r\n       <use x=\"473.302734\" xlink:href=\"#MalgunGothic-121\"/>\r\n      </g>\r\n     </g>\r\n    </g>\r\n    <g id=\"xtick_4\">\r\n     <g id=\"line2d_4\">\r\n      <g>\r\n       <use style=\"stroke:#000000;stroke-width:0.8;\" x=\"203.63125\" xlink:href=\"#m5803fe1baf\" y=\"224.64\"/>\r\n      </g>\r\n     </g>\r\n     <g id=\"text_4\">\r\n      <!-- Thursday -->\r\n      <defs>\r\n       <path d=\"M 50.59375 0 \r\nL 42.875 0 \r\nL 42.875 29.59375 \r\nQ 42.875 45.953125 30.671875 45.953125 \r\nQ 24.5625 45.953125 20.359375 41.203125 \r\nQ 16.15625 36.46875 16.15625 29.046875 \r\nL 16.15625 0 \r\nL 8.40625 0 \r\nL 8.40625 75.921875 \r\nL 16.15625 75.921875 \r\nL 16.15625 42.71875 \r\nL 16.359375 42.71875 \r\nQ 22.265625 52.484375 33.25 52.484375 \r\nQ 50.59375 52.484375 50.59375 31.59375 \r\nz\r\n\" id=\"MalgunGothic-104\"/>\r\n       <path d=\"M 34.765625 43.359375 \r\nQ 32.5625 45.015625 28.5625 45.015625 \r\nQ 23.296875 45.015625 19.71875 39.890625 \r\nQ 16.15625 34.765625 16.15625 26.265625 \r\nL 16.15625 0 \r\nL 8.40625 0 \r\nL 8.40625 51.3125 \r\nL 16.15625 51.3125 \r\nL 16.15625 40.671875 \r\nL 16.359375 40.671875 \r\nQ 18.109375 46.09375 21.703125 49.140625 \r\nQ 25.296875 52.203125 29.734375 52.203125 \r\nQ 32.953125 52.203125 34.765625 51.515625 \r\nz\r\n\" id=\"MalgunGothic-114\"/>\r\n      </defs>\r\n      <g transform=\"translate(183.134375 239.232188)scale(0.1 -0.1)\">\r\n       <use xlink:href=\"#MalgunGothic-84\"/>\r\n       <use x=\"53.369141\" xlink:href=\"#MalgunGothic-104\"/>\r\n       <use x=\"111.230469\" xlink:href=\"#MalgunGothic-117\"/>\r\n       <use x=\"169.042969\" xlink:href=\"#MalgunGothic-114\"/>\r\n       <use x=\"205.144531\" xlink:href=\"#MalgunGothic-115\"/>\r\n       <use x=\"248.455078\" xlink:href=\"#MalgunGothic-100\"/>\r\n       <use x=\"308.660156\" xlink:href=\"#MalgunGothic-97\"/>\r\n       <use x=\"360.662109\" xlink:href=\"#MalgunGothic-121\"/>\r\n      </g>\r\n     </g>\r\n    </g>\r\n    <g id=\"xtick_5\">\r\n     <g id=\"line2d_5\">\r\n      <g>\r\n       <use style=\"stroke:#000000;stroke-width:0.8;\" x=\"248.390608\" xlink:href=\"#m5803fe1baf\" y=\"224.64\"/>\r\n      </g>\r\n     </g>\r\n     <g id=\"text_5\">\r\n      <!-- Friday -->\r\n      <defs>\r\n       <path d=\"M 45.65625 64.59375 \r\nL 17.390625 64.59375 \r\nL 17.390625 39.3125 \r\nL 43.5625 39.3125 \r\nL 43.5625 32.03125 \r\nL 17.390625 32.03125 \r\nL 17.390625 0 \r\nL 9.515625 0 \r\nL 9.515625 71.875 \r\nL 45.65625 71.875 \r\nz\r\n\" id=\"MalgunGothic-70\"/>\r\n       <path d=\"M 7.375 69.78125 \r\nQ 7.375 71.96875 8.828125 73.453125 \r\nQ 10.296875 74.953125 12.40625 74.953125 \r\nQ 14.59375 74.953125 16.078125 73.4375 \r\nQ 17.578125 71.921875 17.578125 69.78125 \r\nQ 17.578125 67.578125 16.078125 66.109375 \r\nQ 14.59375 64.65625 12.40625 64.65625 \r\nQ 10.296875 64.65625 8.828125 66.09375 \r\nQ 7.375 67.53125 7.375 69.78125 \r\nz\r\nM 8.453125 0 \r\nL 8.453125 51.3125 \r\nL 16.15625 51.3125 \r\nL 16.15625 0 \r\nz\r\n\" id=\"MalgunGothic-105\"/>\r\n      </defs>\r\n      <g transform=\"translate(234.825765 239.232188)scale(0.1 -0.1)\">\r\n       <use xlink:href=\"#MalgunGothic-70\"/>\r\n       <use x=\"49.853516\" xlink:href=\"#MalgunGothic-114\"/>\r\n       <use x=\"85.205078\" xlink:href=\"#MalgunGothic-105\"/>\r\n       <use x=\"109.814453\" xlink:href=\"#MalgunGothic-100\"/>\r\n       <use x=\"170.019531\" xlink:href=\"#MalgunGothic-97\"/>\r\n       <use x=\"222.021484\" xlink:href=\"#MalgunGothic-121\"/>\r\n      </g>\r\n     </g>\r\n    </g>\r\n    <g id=\"xtick_6\">\r\n     <g id=\"line2d_6\">\r\n      <g>\r\n       <use style=\"stroke:#000000;stroke-width:0.8;\" x=\"293.149967\" xlink:href=\"#m5803fe1baf\" y=\"224.64\"/>\r\n      </g>\r\n     </g>\r\n     <g id=\"text_6\">\r\n      <!-- Saturday -->\r\n      <defs>\r\n       <path d=\"M 6.15625 12.453125 \r\nQ 9.46875 9.578125 15.0625 7.8125 \r\nQ 20.65625 6.0625 25.390625 6.0625 \r\nQ 41.0625 6.0625 41.0625 17.4375 \r\nQ 41.0625 20.703125 39.421875 23.1875 \r\nQ 37.796875 25.6875 35.15625 27.4375 \r\nQ 32.515625 29.203125 24.171875 33.5 \r\nQ 14.109375 38.671875 10.171875 43.03125 \r\nQ 6.25 47.40625 6.25 54 \r\nQ 6.25 62.796875 13.40625 67.921875 \r\nQ 20.5625 73.046875 31.0625 73.046875 \r\nQ 41.703125 73.046875 46.296875 70.515625 \r\nL 46.296875 61.375 \r\nQ 40.046875 65.71875 30.03125 65.71875 \r\nQ 23.1875 65.71875 18.859375 62.78125 \r\nQ 14.546875 59.859375 14.546875 54.6875 \r\nQ 14.546875 50 17.59375 47.046875 \r\nQ 20.65625 44.09375 30.28125 39.40625 \r\nQ 41.5 33.796875 45.40625 28.8125 \r\nQ 49.3125 23.828125 49.3125 18.015625 \r\nQ 49.3125 8.6875 42.578125 3.734375 \r\nQ 35.84375 -1.21875 23.921875 -1.21875 \r\nQ 20.171875 -1.21875 14.484375 -0.015625 \r\nQ 8.796875 1.171875 6.15625 2.9375 \r\nz\r\n\" id=\"MalgunGothic-83\"/>\r\n       <path d=\"M 31.734375 0.484375 \r\nQ 28.8125 -1.125 24.265625 -1.125 \r\nQ 11.03125 -1.125 11.03125 13.765625 \r\nL 11.03125 44.625 \r\nL 2.15625 44.625 \r\nL 2.15625 51.3125 \r\nL 11.03125 51.3125 \r\nL 11.03125 63.921875 \r\nL 18.75 66.40625 \r\nL 18.75 51.3125 \r\nL 31.734375 51.3125 \r\nL 31.734375 44.625 \r\nL 18.75 44.625 \r\nL 18.75 15.1875 \r\nQ 18.75 9.765625 20.546875 7.609375 \r\nQ 22.359375 5.46875 26.421875 5.46875 \r\nQ 29.5 5.46875 31.734375 7.171875 \r\nz\r\n\" id=\"MalgunGothic-116\"/>\r\n      </defs>\r\n      <g transform=\"translate(273.448404 239.232188)scale(0.1 -0.1)\">\r\n       <use xlink:href=\"#MalgunGothic-83\"/>\r\n       <use x=\"54.296875\" xlink:href=\"#MalgunGothic-97\"/>\r\n       <use x=\"106.298828\" xlink:href=\"#MalgunGothic-116\"/>\r\n       <use x=\"140.771484\" xlink:href=\"#MalgunGothic-117\"/>\r\n       <use x=\"198.583984\" xlink:href=\"#MalgunGothic-114\"/>\r\n       <use x=\"232.560547\" xlink:href=\"#MalgunGothic-100\"/>\r\n       <use x=\"292.765625\" xlink:href=\"#MalgunGothic-97\"/>\r\n       <use x=\"344.767578\" xlink:href=\"#MalgunGothic-121\"/>\r\n      </g>\r\n     </g>\r\n    </g>\r\n    <g id=\"xtick_7\">\r\n     <g id=\"line2d_7\">\r\n      <g>\r\n       <use style=\"stroke:#000000;stroke-width:0.8;\" x=\"337.909325\" xlink:href=\"#m5803fe1baf\" y=\"224.64\"/>\r\n      </g>\r\n     </g>\r\n     <g id=\"text_7\">\r\n      <!-- Sunday -->\r\n      <g transform=\"translate(321.339794 239.232188)scale(0.1 -0.1)\">\r\n       <use xlink:href=\"#MalgunGothic-83\"/>\r\n       <use x=\"54.296875\" xlink:href=\"#MalgunGothic-117\"/>\r\n       <use x=\"112.109375\" xlink:href=\"#MalgunGothic-110\"/>\r\n       <use x=\"169.921875\" xlink:href=\"#MalgunGothic-100\"/>\r\n       <use x=\"230.126953\" xlink:href=\"#MalgunGothic-97\"/>\r\n       <use x=\"282.128906\" xlink:href=\"#MalgunGothic-121\"/>\r\n      </g>\r\n     </g>\r\n    </g>\r\n   </g>\r\n   <g id=\"matplotlib.axis_2\">\r\n    <g id=\"ytick_1\">\r\n     <g id=\"line2d_8\">\r\n      <defs>\r\n       <path d=\"M 0 0 \r\nL -3.5 0 \r\n\" id=\"m435f2e474e\" style=\"stroke:#000000;stroke-width:0.8;\"/>\r\n      </defs>\r\n      <g>\r\n       <use style=\"stroke:#000000;stroke-width:0.8;\" x=\"36.23125\" xlink:href=\"#m435f2e474e\" y=\"224.64\"/>\r\n      </g>\r\n     </g>\r\n     <g id=\"text_8\">\r\n      <!-- 0 -->\r\n      <defs>\r\n       <path d=\"M 4.34375 34.46875 \r\nQ 4.34375 53.515625 10.546875 63.28125 \r\nQ 16.75 73.046875 28.421875 73.046875 \r\nQ 50.828125 73.046875 50.828125 36.234375 \r\nQ 50.828125 18.0625 44.59375 8.421875 \r\nQ 38.375 -1.21875 26.8125 -1.21875 \r\nQ 15.875 -1.21875 10.109375 8.125 \r\nQ 4.34375 17.484375 4.34375 34.46875 \r\nz\r\nM 12.25 34.859375 \r\nQ 12.25 5.375 27.640625 5.375 \r\nQ 42.921875 5.375 42.921875 35.296875 \r\nQ 42.921875 66.40625 28.03125 66.40625 \r\nQ 12.25 66.40625 12.25 34.859375 \r\nz\r\n\" id=\"MalgunGothic-48\"/>\r\n      </defs>\r\n      <g transform=\"translate(23.723438 228.436094)scale(0.1 -0.1)\">\r\n       <use xlink:href=\"#MalgunGothic-48\"/>\r\n      </g>\r\n     </g>\r\n    </g>\r\n    <g id=\"ytick_2\">\r\n     <g id=\"line2d_9\">\r\n      <g>\r\n       <use style=\"stroke:#000000;stroke-width:0.8;\" x=\"36.23125\" xlink:href=\"#m435f2e474e\" y=\"186.432304\"/>\r\n      </g>\r\n     </g>\r\n     <g id=\"text_9\">\r\n      <!-- 500 -->\r\n      <defs>\r\n       <path d=\"M 48 21.921875 \r\nQ 48 11.28125 41.1875 5.03125 \r\nQ 34.375 -1.21875 22.953125 -1.21875 \r\nQ 12.9375 -1.21875 8.0625 1.765625 \r\nL 8.0625 10.15625 \r\nQ 15.53125 5.375 23.046875 5.375 \r\nQ 30.765625 5.375 35.46875 9.84375 \r\nQ 40.1875 14.3125 40.1875 21.4375 \r\nQ 40.1875 28.71875 35.390625 32.6875 \r\nQ 30.609375 36.671875 21.578125 36.671875 \r\nQ 15.53125 36.671875 9.421875 35.9375 \r\nL 11.859375 71.875 \r\nL 44.828125 71.875 \r\nL 44.828125 64.796875 \r\nL 18.84375 64.796875 \r\nL 17.28125 43.171875 \r\nQ 21.046875 43.5 24.171875 43.5 \r\nQ 35.359375 43.5 41.671875 37.71875 \r\nQ 48 31.9375 48 21.921875 \r\nz\r\n\" id=\"MalgunGothic-53\"/>\r\n      </defs>\r\n      <g transform=\"translate(12.707813 190.228397)scale(0.1 -0.1)\">\r\n       <use xlink:href=\"#MalgunGothic-53\"/>\r\n       <use x=\"55.078125\" xlink:href=\"#MalgunGothic-48\"/>\r\n       <use x=\"110.15625\" xlink:href=\"#MalgunGothic-48\"/>\r\n      </g>\r\n     </g>\r\n    </g>\r\n    <g id=\"ytick_3\">\r\n     <g id=\"line2d_10\">\r\n      <g>\r\n       <use style=\"stroke:#000000;stroke-width:0.8;\" x=\"36.23125\" xlink:href=\"#m435f2e474e\" y=\"148.224607\"/>\r\n      </g>\r\n     </g>\r\n     <g id=\"text_10\">\r\n      <!-- 1000 -->\r\n      <defs>\r\n       <path d=\"M 34.859375 0 \r\nL 27.09375 0 \r\nL 27.09375 62.0625 \r\nQ 24.859375 59.8125 19.78125 57.203125 \r\nQ 14.703125 54.59375 10.5 53.5625 \r\nL 10.5 61.859375 \r\nQ 15.875 63.375 22.015625 66.796875 \r\nQ 28.171875 70.21875 31.734375 73.4375 \r\nL 34.859375 73.4375 \r\nz\r\n\" id=\"MalgunGothic-49\"/>\r\n      </defs>\r\n      <g transform=\"translate(7.2 152.020701)scale(0.1 -0.1)\">\r\n       <use xlink:href=\"#MalgunGothic-49\"/>\r\n       <use x=\"55.078125\" xlink:href=\"#MalgunGothic-48\"/>\r\n       <use x=\"110.15625\" xlink:href=\"#MalgunGothic-48\"/>\r\n       <use x=\"165.234375\" xlink:href=\"#MalgunGothic-48\"/>\r\n      </g>\r\n     </g>\r\n    </g>\r\n    <g id=\"ytick_4\">\r\n     <g id=\"line2d_11\">\r\n      <g>\r\n       <use style=\"stroke:#000000;stroke-width:0.8;\" x=\"36.23125\" xlink:href=\"#m435f2e474e\" y=\"110.016911\"/>\r\n      </g>\r\n     </g>\r\n     <g id=\"text_11\">\r\n      <!-- 1500 -->\r\n      <g transform=\"translate(7.2 113.813005)scale(0.1 -0.1)\">\r\n       <use xlink:href=\"#MalgunGothic-49\"/>\r\n       <use x=\"55.078125\" xlink:href=\"#MalgunGothic-53\"/>\r\n       <use x=\"110.15625\" xlink:href=\"#MalgunGothic-48\"/>\r\n       <use x=\"165.234375\" xlink:href=\"#MalgunGothic-48\"/>\r\n      </g>\r\n     </g>\r\n    </g>\r\n    <g id=\"ytick_5\">\r\n     <g id=\"line2d_12\">\r\n      <g>\r\n       <use style=\"stroke:#000000;stroke-width:0.8;\" x=\"36.23125\" xlink:href=\"#m435f2e474e\" y=\"71.809215\"/>\r\n      </g>\r\n     </g>\r\n     <g id=\"text_12\">\r\n      <!-- 2000 -->\r\n      <defs>\r\n       <path d=\"M 39.359375 52.6875 \r\nQ 39.359375 59.125 35.546875 62.78125 \r\nQ 31.734375 66.453125 25.4375 66.453125 \r\nQ 20.953125 66.453125 16.453125 64.125 \r\nQ 11.96875 61.8125 8.34375 57.765625 \r\nL 8.34375 66.15625 \r\nQ 15.328125 73.046875 26.421875 73.046875 \r\nQ 35.640625 73.046875 41.28125 67.71875 \r\nQ 46.921875 62.40625 46.921875 53.375 \r\nQ 46.921875 45.609375 43.3125 39.765625 \r\nQ 39.703125 33.9375 31 27.734375 \r\nQ 22.796875 21.96875 19.59375 18.984375 \r\nQ 16.40625 16.015625 15.109375 13.34375 \r\nQ 13.8125 10.6875 13.8125 7.03125 \r\nL 48.6875 7.03125 \r\nL 48.6875 0 \r\nL 5.5625 0 \r\nL 5.5625 3.515625 \r\nQ 5.5625 9.421875 7.203125 13.59375 \r\nQ 8.84375 17.78125 12.671875 21.75 \r\nQ 16.5 25.734375 24.953125 31.59375 \r\nQ 32.671875 36.921875 36.015625 41.71875 \r\nQ 39.359375 46.53125 39.359375 52.6875 \r\nz\r\n\" id=\"MalgunGothic-50\"/>\r\n      </defs>\r\n      <g transform=\"translate(7.2 75.605308)scale(0.1 -0.1)\">\r\n       <use xlink:href=\"#MalgunGothic-50\"/>\r\n       <use x=\"55.078125\" xlink:href=\"#MalgunGothic-48\"/>\r\n       <use x=\"110.15625\" xlink:href=\"#MalgunGothic-48\"/>\r\n       <use x=\"165.234375\" xlink:href=\"#MalgunGothic-48\"/>\r\n      </g>\r\n     </g>\r\n    </g>\r\n    <g id=\"ytick_6\">\r\n     <g id=\"line2d_13\">\r\n      <g>\r\n       <use style=\"stroke:#000000;stroke-width:0.8;\" x=\"36.23125\" xlink:href=\"#m435f2e474e\" y=\"33.601518\"/>\r\n      </g>\r\n     </g>\r\n     <g id=\"text_13\">\r\n      <!-- 2500 -->\r\n      <g transform=\"translate(7.2 37.397612)scale(0.1 -0.1)\">\r\n       <use xlink:href=\"#MalgunGothic-50\"/>\r\n       <use x=\"55.078125\" xlink:href=\"#MalgunGothic-53\"/>\r\n       <use x=\"110.15625\" xlink:href=\"#MalgunGothic-48\"/>\r\n       <use x=\"165.234375\" xlink:href=\"#MalgunGothic-48\"/>\r\n      </g>\r\n     </g>\r\n    </g>\r\n   </g>\r\n   <g id=\"patch_10\">\r\n    <path d=\"M 36.23125 224.64 \r\nL 36.23125 7.2 \r\n\" style=\"fill:none;stroke:#000000;stroke-linecap:square;stroke-linejoin:miter;stroke-width:0.8;\"/>\r\n   </g>\r\n   <g id=\"patch_11\">\r\n    <path d=\"M 371.03125 224.64 \r\nL 371.03125 7.2 \r\n\" style=\"fill:none;stroke:#000000;stroke-linecap:square;stroke-linejoin:miter;stroke-width:0.8;\"/>\r\n   </g>\r\n   <g id=\"patch_12\">\r\n    <path d=\"M 36.23125 224.64 \r\nL 371.03125 224.64 \r\n\" style=\"fill:none;stroke:#000000;stroke-linecap:square;stroke-linejoin:miter;stroke-width:0.8;\"/>\r\n   </g>\r\n   <g id=\"patch_13\">\r\n    <path d=\"M 36.23125 7.2 \r\nL 371.03125 7.2 \r\n\" style=\"fill:none;stroke:#000000;stroke-linecap:square;stroke-linejoin:miter;stroke-width:0.8;\"/>\r\n   </g>\r\n  </g>\r\n </g>\r\n <defs>\r\n  <clipPath id=\"p8ab819dcf9\">\r\n   <rect height=\"217.44\" width=\"334.8\" x=\"36.23125\" y=\"7.2\"/>\r\n  </clipPath>\r\n </defs>\r\n</svg>\r\n",
      "image/png": "[encoded data removed]"
     },
     "metadata": {
      "needs_background": "light"
     }
    }
   ],
   "source": [
    "# plt.bar(['Sunday', 'Monday', 'Tuesday'], week)\n",
    "# week.index = []\n",
    "plt.bar(week.index, week)"
   ]
  },
  {
   "cell_type": "code",
   "execution_count": 222,
   "metadata": {},
   "outputs": [
    {
     "output_type": "execute_result",
     "data": {
      "text/plain": "       index  유동인구수\n0     Monday   2588\n1    Tuesday   2587\n2  Wednesday   2596\n3   Thursday   2584\n4     Friday   2710\n5   Saturday   2463\n6     Sunday   2447",
      "text/html": "<div>\n<style scoped>\n    .dataframe tbody tr th:only-of-type {\n        vertical-align: middle;\n    }\n\n    .dataframe tbody tr th {\n        vertical-align: top;\n    }\n\n    .dataframe thead th {\n        text-align: right;\n    }\n</style>\n<table border=\"1\" class=\"dataframe\">\n  <thead>\n    <tr style=\"text-align: right;\">\n      <th></th>\n      <th>index</th>\n      <th>유동인구수</th>\n    </tr>\n  </thead>\n  <tbody>\n    <tr>\n      <th>0</th>\n      <td>Monday</td>\n      <td>2588</td>\n    </tr>\n    <tr>\n      <th>1</th>\n      <td>Tuesday</td>\n      <td>2587</td>\n    </tr>\n    <tr>\n      <th>2</th>\n      <td>Wednesday</td>\n      <td>2596</td>\n    </tr>\n    <tr>\n      <th>3</th>\n      <td>Thursday</td>\n      <td>2584</td>\n    </tr>\n    <tr>\n      <th>4</th>\n      <td>Friday</td>\n      <td>2710</td>\n    </tr>\n    <tr>\n      <th>5</th>\n      <td>Saturday</td>\n      <td>2463</td>\n    </tr>\n    <tr>\n      <th>6</th>\n      <td>Sunday</td>\n      <td>2447</td>\n    </tr>\n  </tbody>\n</table>\n</div>"
     },
     "metadata": {},
     "execution_count": 222
    }
   ],
   "source": [
    "w = week.reset_index()\n",
    "w"
   ]
  },
  {
   "cell_type": "code",
   "execution_count": null,
   "metadata": {},
   "outputs": [],
   "source": []
  },
  {
   "cell_type": "code",
   "execution_count": null,
   "metadata": {},
   "outputs": [],
   "source": []
  },
  {
   "cell_type": "code",
   "execution_count": null,
   "metadata": {},
   "outputs": [],
   "source": []
  }
 ]
}