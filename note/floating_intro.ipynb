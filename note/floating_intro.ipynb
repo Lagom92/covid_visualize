{
 "metadata": {
  "language_info": {
   "codemirror_mode": {
    "name": "ipython",
    "version": 3
   },
   "file_extension": ".py",
   "mimetype": "text/x-python",
   "name": "python",
   "nbconvert_exporter": "python",
   "pygments_lexer": "ipython3",
   "version": 3
  },
  "orig_nbformat": 2
 },
 "nbformat": 4,
 "nbformat_minor": 2,
 "cells": [
  {
   "cell_type": "markdown",
   "metadata": {},
   "source": [
    "# 서울시 유동 인구\n",
    "\n",
    "선 그래프, 지도 그래프로 시각화\n",
    "\n",
    "1. 1월 부터 7월 까지의 서울시 인구 유동량 변화 \n",
    "    \n",
    "    - 발생했던 사건/사고들을 포인터로 넣기\n",
    "\n",
    "    - 전체적인 흐름을 위한 인트로 느낌\n",
    "\n",
    "2. 5월부터 7월 까지의 유동량을 분석\n",
    "\n",
    "    - 요일별 / 시간별 로 나눠서 시각화"
   ]
  },
  {
   "cell_type": "code",
   "execution_count": null,
   "metadata": {},
   "outputs": [],
   "source": []
  }
 ]
}